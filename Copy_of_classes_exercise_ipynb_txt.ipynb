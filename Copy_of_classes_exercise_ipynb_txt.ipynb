{
  "nbformat": 4,
  "nbformat_minor": 0,
  "metadata": {
    "kernelspec": {
      "display_name": "Python 3",
      "language": "python",
      "name": "python3"
    },
    "language_info": {
      "codemirror_mode": {
        "name": "ipython",
        "version": 3
      },
      "file_extension": ".py",
      "mimetype": "text/x-python",
      "name": "python",
      "nbconvert_exporter": "python",
      "pygments_lexer": "ipython3",
      "version": "3.5.4"
    },
    "colab": {
      "name": "Copy of classes_exercise.ipynb.txt",
      "provenance": [],
      "collapsed_sections": [],
      "include_colab_link": true
    }
  },
  "cells": [
    {
      "cell_type": "markdown",
      "metadata": {
        "id": "view-in-github",
        "colab_type": "text"
      },
      "source": [
        "<a href=\"https://colab.research.google.com/github/rams85/Python-Learnings/blob/main/Copy_of_classes_exercise_ipynb_txt.ipynb\" target=\"_parent\"><img src=\"https://colab.research.google.com/assets/colab-badge.svg\" alt=\"Open In Colab\"/></a>"
      ]
    },
    {
      "cell_type": "markdown",
      "metadata": {
        "id": "zeasCLy8E8B-"
      },
      "source": [
        "# 1. Fill the missing pieces of the `Calculator` class\n",
        "Fill `____` pieces of the `Calculator` implemention in order to pass the assertions."
      ]
    },
    {
      "cell_type": "code",
      "metadata": {
        "id": "Jc8b2HC-E8CI"
      },
      "source": [
        "class Calculator:\n",
        "    def __init__(self, var1, var2):\n",
        "        self.var1 = var1\n",
        "        self.var2 = var2\n",
        "    \n",
        "    def calculate_power(self):\n",
        "        return self.var1 ** self.var2\n",
        "    \n",
        "    def calculate_sum(self, var3):\n",
        "        return self.var1 + self.var2 + var3"
      ],
      "execution_count": null,
      "outputs": []
    },
    {
      "cell_type": "code",
      "metadata": {
        "editable": false,
        "id": "rOvjDhgmE8CP"
      },
      "source": [
        "calc = Calculator(2, 3)\n",
        "assert calc.calculate_power() == 8\n",
        "assert calc.calculate_sum(4) == 9"
      ],
      "execution_count": null,
      "outputs": []
    },
    {
      "cell_type": "markdown",
      "metadata": {
        "id": "yQDZdM61E8CQ"
      },
      "source": [
        "# 2. Finalize `StringManipulator` class\n",
        "Fill `____` pieces and create implementation for `stripped_title()`."
      ]
    },
    {
      "cell_type": "code",
      "metadata": {
        "id": "JO82mZ9RE8CR"
      },
      "source": [
        "class StringManipulator:\n",
        "    \"\"\"Docstring of StringManipulator\"\"\"\n",
        "    \n",
        "    category = \"Manipulator\"\n",
        "    \n",
        "    def __init__(self, original):\n",
        "        self.string = original\n",
        "        \n",
        "    def reverse_words(self):\n",
        "        words = self.string.split()\n",
        "        self.string = ' '.join(reversed(words))\n",
        "        \n",
        "    def make_title(self):\n",
        "        # Create implementation for this\n",
        "        print(self.string.title())\n",
        "        \n",
        "    def get_manipulated(string):\n",
        "        return self.string"
      ],
      "execution_count": null,
      "outputs": []
    },
    {
      "cell_type": "code",
      "metadata": {
        "editable": false,
        "id": "zc-7JKEDE8CT"
      },
      "source": [
        "assert StringManipulator.__doc__ == 'Docstring of StringManipulator'\n",
        "assert StringManipulator.category == 'Manipulator'\n",
        "\n",
        "str_manip = StringManipulator('cOOL pyThON')\n",
        "\n",
        "str_manip.reverse_words()\n",
        "assert str_manip.get_manipulated() == 'pyThON cOOL'\n",
        "\n",
        "str_manip.make_title()\n",
        "assert str_manip.get_manipulated() == 'Python Cool'"
      ],
      "execution_count": null,
      "outputs": []
    },
    {
      "cell_type": "markdown",
      "metadata": {
        "id": "hjLfAk2IE8CY"
      },
      "source": [
        "# 3. Create `Dog` class\n",
        "Create `Dog` class which has the following specification:\n",
        "* Dogs consume their energy by barking and gain energy by sleeping\n",
        "* A fresh `Dog` instance has 10 units of energy\n",
        "* `Dog` has a method `sleep` which gives 2 units of energy\n",
        "* `Dog` has a method `bark` which consumes 1 unit of energy\n",
        "* `Dog` has a method `get_energy` which returns the amount of energy left "
      ]
    },
    {
      "cell_type": "code",
      "metadata": {
        "colab": {
          "base_uri": "https://localhost:8080/",
          "height": 135
        },
        "id": "eLE3Xu2TE8Cb",
        "outputId": "2b4ffcdf-d999-436b-aa45-25e3b0444887"
      },
      "source": [
        "class Dog:\n",
        "    # Your implementation here\n",
        "    energy_sleep = 10\n",
        "\n",
        "    def __init__(self):\n",
        "      self.energy = 10\n",
        "    \n",
        "    def get_energy(self):\n",
        "      print(self.energy)\n",
        "    \n",
        "    def bark(self):\n",
        "      self.energy -= 1\n",
        "\n",
        "    def sleep(self):\n",
        "      self.energy_sleep -= 1'\n",
        "      print(self.energy_sleep)\n",
        "      \n",
        "doge = Dog()\n",
        "doge.get_energy()\n",
        "\n",
        "doge.bark()\n",
        "doge.bark()\n",
        "doge.bark()\n",
        "\n",
        "doge.get_energy()\n",
        "doge.sleep()\n",
        "\n",
        "another_doge = Dog()\n",
        "another_doge.get_energy()"
      ],
      "execution_count": null,
      "outputs": [
        {
          "output_type": "error",
          "ename": "SyntaxError",
          "evalue": "ignored",
          "traceback": [
            "\u001b[0;36m  File \u001b[0;32m\"<ipython-input-1-6edd49e5fc5b>\"\u001b[0;36m, line \u001b[0;32m15\u001b[0m\n\u001b[0;31m    self.energy_sleep -= 1'\u001b[0m\n\u001b[0m                           ^\u001b[0m\n\u001b[0;31mSyntaxError\u001b[0m\u001b[0;31m:\u001b[0m EOL while scanning string literal\n"
          ]
        }
      ]
    },
    {
      "cell_type": "code",
      "metadata": {
        "editable": false,
        "colab": {
          "base_uri": "https://localhost:8080/",
          "height": 264
        },
        "id": "zA0EVEGRE8Cc",
        "outputId": "eafcecb1-cee0-4e72-c062-239759796193"
      },
      "source": [
        "doge = Dog()\n",
        "assert doge.get_energy() == 10\n",
        "\n",
        "doge.bark()\n",
        "doge.bark()\n",
        "doge.bark()\n",
        "assert doge.get_energy() == 7\n",
        "\n",
        "doge.sleep()\n",
        "assert doge.get_energy() == 9\n",
        "\n",
        "another_doge = Dog()\n",
        "assert another_doge.get_energy() == 10"
      ],
      "execution_count": null,
      "outputs": [
        {
          "output_type": "stream",
          "text": [
            "10\n"
          ],
          "name": "stdout"
        },
        {
          "output_type": "error",
          "ename": "AssertionError",
          "evalue": "ignored",
          "traceback": [
            "\u001b[0;31m---------------------------------------------------------------------------\u001b[0m",
            "\u001b[0;31mAssertionError\u001b[0m                            Traceback (most recent call last)",
            "\u001b[0;32m<ipython-input-2-a7f073aa8c25>\u001b[0m in \u001b[0;36m<module>\u001b[0;34m()\u001b[0m\n\u001b[1;32m     17\u001b[0m \u001b[0;34m\u001b[0m\u001b[0m\n\u001b[1;32m     18\u001b[0m \u001b[0mdoge\u001b[0m \u001b[0;34m=\u001b[0m \u001b[0mDog\u001b[0m\u001b[0;34m(\u001b[0m\u001b[0;34m)\u001b[0m\u001b[0;34m\u001b[0m\u001b[0;34m\u001b[0m\u001b[0m\n\u001b[0;32m---> 19\u001b[0;31m \u001b[0;32massert\u001b[0m \u001b[0mdoge\u001b[0m\u001b[0;34m.\u001b[0m\u001b[0mget_energy\u001b[0m\u001b[0;34m(\u001b[0m\u001b[0;34m)\u001b[0m \u001b[0;34m==\u001b[0m \u001b[0;36m10\u001b[0m\u001b[0;34m\u001b[0m\u001b[0;34m\u001b[0m\u001b[0m\n\u001b[0m\u001b[1;32m     20\u001b[0m \u001b[0;34m\u001b[0m\u001b[0m\n\u001b[1;32m     21\u001b[0m \u001b[0mdoge\u001b[0m\u001b[0;34m.\u001b[0m\u001b[0mbark\u001b[0m\u001b[0;34m(\u001b[0m\u001b[0;34m)\u001b[0m\u001b[0;34m\u001b[0m\u001b[0;34m\u001b[0m\u001b[0m\n",
            "\u001b[0;31mAssertionError\u001b[0m: "
          ]
        }
      ]
    }
  ]
}