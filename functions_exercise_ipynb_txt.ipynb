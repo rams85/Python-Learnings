{
  "nbformat": 4,
  "nbformat_minor": 0,
  "metadata": {
    "kernelspec": {
      "display_name": "Python 3",
      "language": "python",
      "name": "python3"
    },
    "language_info": {
      "codemirror_mode": {
        "name": "ipython",
        "version": 3
      },
      "file_extension": ".py",
      "mimetype": "text/x-python",
      "name": "python",
      "nbconvert_exporter": "python",
      "pygments_lexer": "ipython3",
      "version": "3.5.4"
    },
    "colab": {
      "name": "functions_exercise.ipynb.txt",
      "provenance": [],
      "collapsed_sections": [],
      "include_colab_link": true
    }
  },
  "cells": [
    {
      "cell_type": "markdown",
      "metadata": {
        "id": "view-in-github",
        "colab_type": "text"
      },
      "source": [
        "<a href=\"https://colab.research.google.com/github/rams85/Python-Learnings/blob/main/functions_exercise_ipynb_txt.ipynb\" target=\"_parent\"><img src=\"https://colab.research.google.com/assets/colab-badge.svg\" alt=\"Open In Colab\"/></a>"
      ]
    },
    {
      "cell_type": "markdown",
      "metadata": {
        "id": "DrgvoStjDKIM"
      },
      "source": [
        "# 1. Fill the missing pieces of the `count_even_numbers` function\n",
        "Fill `____` pieces of the `count_even_numbers` implemention in order to pass the assertions. You can assume that `numbers` argument is a list of integers."
      ]
    },
    {
      "cell_type": "code",
      "metadata": {
        "colab": {
          "base_uri": "https://localhost:8080/"
        },
        "id": "E0gHNSauDKIk",
        "outputId": "851a3641-09b8-47ae-8d23-1a3fea44a1e3"
      },
      "source": [
        "def count_even_numbers(numbers):\n",
        "    count = 0\n",
        "    for num in numbers:\n",
        "        if num % 2 == 0:\n",
        "            count += 1\n",
        "    return count\n",
        "\n",
        "count_even_numbers([1, 2, 3, 4, 5, 6]) \n",
        "\n",
        "count_even_numbers([1, 3, 5, 7])\n",
        "\n",
        "count_even_numbers([-2, 2, -10, 8])"
      ],
      "execution_count": 9,
      "outputs": [
        {
          "output_type": "execute_result",
          "data": {
            "text/plain": [
              "4"
            ]
          },
          "metadata": {
            "tags": []
          },
          "execution_count": 9
        }
      ]
    },
    {
      "cell_type": "code",
      "metadata": {
        "editable": false,
        "id": "lH8MzzK3DKIn"
      },
      "source": [
        "assert count_even_numbers([1, 2, 3, 4, 5, 6]) == 3\n",
        "assert count_even_numbers([1, 3, 5, 7]) == 0\n",
        "assert count_even_numbers([-2, 2, -10, 8]) == 4"
      ],
      "execution_count": null,
      "outputs": []
    },
    {
      "cell_type": "markdown",
      "metadata": {
        "id": "pQe8j7mUDKIq"
      },
      "source": [
        "# 2. Searching for wanted people\n",
        "Implement `find_wanted_people` function which takes a list of names (strings) as argument. The function should return a list of names which are present both in `WANTED_PEOPLE` and in the name list given as argument to the function."
      ]
    },
    {
      "cell_type": "code",
      "metadata": {
        "editable": false,
        "id": "T8PQY5Z5DKIt"
      },
      "source": [
        "WANTED_PEOPLE = ['John Doe', 'Clint Eastwood', 'Chuck Norris']"
      ],
      "execution_count": null,
      "outputs": []
    },
    {
      "cell_type": "code",
      "metadata": {
        "colab": {
          "base_uri": "https://localhost:8080/"
        },
        "id": "XoTANXRKDKIv",
        "outputId": "bbf2da2f-7dbb-4ae8-ecb0-2447a93ff090"
      },
      "source": [
        "# Your implementation here\n",
        "\n",
        "def find_wanted_people(list=[]):\n",
        "  for item in list:\n",
        "    if item in WANTED_PEOPLE:\n",
        "       print(item, 'in wanted1')\n",
        "\n",
        "wanted1 = find_wanted_people(people_to_check1)\n",
        "print(wanted1)\n",
        "\n",
        "\n",
        "people_to_check2 = ['Donald Duck', 'Mickey Mouse', 'Zorro', 'Superman', 'Robin Hood']\n",
        "\n",
        "def find_wanted_people(list=[]):\n",
        "  for item in list:\n",
        "    if item in people_to_check2:\n",
        "       print(item, 'in wanted1') \n",
        "\n",
        "wanted2 = find_wanted_people(WANTED_PEOPLE)\n",
        "print('\\nwanted2 = ',wanted1)"
      ],
      "execution_count": 83,
      "outputs": [
        {
          "output_type": "stream",
          "text": [
            "Clint Eastwood in wanted1\n",
            "John Doe in wanted1\n",
            "None\n",
            "\n",
            "wanted2 =  None\n"
          ],
          "name": "stdout"
        }
      ]
    },
    {
      "cell_type": "code",
      "metadata": {
        "editable": false,
        "id": "5n-LUpXMDKIw"
      },
      "source": [
        "people_to_check1 = ['Donald Duck', 'Clint Eastwood', 'John Doe', 'Barack Obama']\n",
        "wanted1 = find_wanted_people(people_to_check1)\n",
        "assert len(wanted1) == 2\n",
        "assert 'John Doe' in wanted1\n",
        "assert 'Clint Eastwood'in wanted1\n",
        "\n",
        "people_to_check2 = ['Donald Duck', 'Mickey Mouse', 'Zorro', 'Superman', 'Robin Hood']\n",
        "wanted2 = find_wanted_people(people_to_check2)\n",
        "assert wanted2 == []"
      ],
      "execution_count": null,
      "outputs": []
    },
    {
      "cell_type": "markdown",
      "metadata": {
        "id": "9Y1cGeyHDKIw"
      },
      "source": [
        "# 3. Counting average length of words in a sentence\n",
        "Create a function `average_length_of_words` which takes a string as an argument and returns the average length of the words in the string. You can assume that there is a single space between each word and that the input does not have punctuation. The result should be rounded to one decimal place (hint: see [`round`](https://docs.python.org/3/library/functions.html#round))."
      ]
    },
    {
      "cell_type": "code",
      "metadata": {
        "colab": {
          "base_uri": "https://localhost:8080/"
        },
        "id": "o1gQ7Qj0DKIx",
        "outputId": "6badd772-695e-4283-b65b-d8b3a2c26473"
      },
      "source": [
        "# Your implementation here\n",
        "def average_length_of_words(string):\n",
        "  words = string.split()\n",
        "  average = 0 if len(words) == 0 else sum(len(word) for word in words) / len(words)\n",
        "  return average\n",
        "\n",
        "res1 = average_length_of_words('only four lett erwo rdss')\n",
        "print(int(res1))\n",
        "res2 = average_length_of_words('one two three')\n",
        "print(round(res2,1))\n",
        "\n",
        "res3 = average_length_of_words('one two three four')\n",
        "print(round(res3,1))\n",
        "average_length_of_words('') == 0\n"
      ],
      "execution_count": 142,
      "outputs": [
        {
          "output_type": "stream",
          "text": [
            "4\n",
            "3.7\n",
            "3.8\n"
          ],
          "name": "stdout"
        },
        {
          "output_type": "execute_result",
          "data": {
            "text/plain": [
              "True"
            ]
          },
          "metadata": {
            "tags": []
          },
          "execution_count": 142
        }
      ]
    },
    {
      "cell_type": "code",
      "metadata": {
        "editable": false,
        "colab": {
          "base_uri": "https://localhost:8080/",
          "height": 246
        },
        "id": "kixeAq37DKIz",
        "outputId": "cdac4609-1e89-42bb-b83c-df0ba409fc13"
      },
      "source": [
        "assert average_length_of_words('only four lett erwo rdss') == 4\n",
        "assert average_length_of_words('one two three') == 3.7\n",
        "assert average_length_of_words('one two three four') == 3.8\n",
        "assert average_length_of_words('') == 0"
      ],
      "execution_count": 105,
      "outputs": [
        {
          "output_type": "stream",
          "text": [
            "4.0\n"
          ],
          "name": "stdout"
        },
        {
          "output_type": "error",
          "ename": "AssertionError",
          "evalue": "ignored",
          "traceback": [
            "\u001b[0;31m---------------------------------------------------------------------------\u001b[0m",
            "\u001b[0;31mAssertionError\u001b[0m                            Traceback (most recent call last)",
            "\u001b[0;32m<ipython-input-105-64640a3f17f6>\u001b[0m in \u001b[0;36m<module>\u001b[0;34m()\u001b[0m\n\u001b[0;32m----> 1\u001b[0;31m \u001b[0;32massert\u001b[0m \u001b[0maverage_length_of_words\u001b[0m\u001b[0;34m(\u001b[0m\u001b[0;34m'only four lett erwo rdss'\u001b[0m\u001b[0;34m)\u001b[0m \u001b[0;34m==\u001b[0m \u001b[0;36m4\u001b[0m\u001b[0;34m\u001b[0m\u001b[0;34m\u001b[0m\u001b[0m\n\u001b[0m\u001b[1;32m      2\u001b[0m \u001b[0;32massert\u001b[0m \u001b[0maverage_length_of_words\u001b[0m\u001b[0;34m(\u001b[0m\u001b[0;34m'one two three'\u001b[0m\u001b[0;34m)\u001b[0m \u001b[0;34m==\u001b[0m \u001b[0;36m3.7\u001b[0m\u001b[0;34m\u001b[0m\u001b[0;34m\u001b[0m\u001b[0m\n\u001b[1;32m      3\u001b[0m \u001b[0;32massert\u001b[0m \u001b[0maverage_length_of_words\u001b[0m\u001b[0;34m(\u001b[0m\u001b[0;34m'one two three four'\u001b[0m\u001b[0;34m)\u001b[0m \u001b[0;34m==\u001b[0m \u001b[0;36m3.8\u001b[0m\u001b[0;34m\u001b[0m\u001b[0;34m\u001b[0m\u001b[0m\n\u001b[1;32m      4\u001b[0m \u001b[0;32massert\u001b[0m \u001b[0maverage_length_of_words\u001b[0m\u001b[0;34m(\u001b[0m\u001b[0;34m''\u001b[0m\u001b[0;34m)\u001b[0m \u001b[0;34m==\u001b[0m \u001b[0;36m0\u001b[0m\u001b[0;34m\u001b[0m\u001b[0;34m\u001b[0m\u001b[0m\n",
            "\u001b[0;31mAssertionError\u001b[0m: "
          ]
        }
      ]
    }
  ]
}