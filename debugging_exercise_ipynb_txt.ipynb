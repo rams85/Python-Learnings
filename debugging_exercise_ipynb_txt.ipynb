{
  "nbformat": 4,
  "nbformat_minor": 0,
  "metadata": {
    "kernelspec": {
      "display_name": "Python 3",
      "language": "python",
      "name": "python3"
    },
    "language_info": {
      "codemirror_mode": {
        "name": "ipython",
        "version": 3
      },
      "file_extension": ".py",
      "mimetype": "text/x-python",
      "name": "python",
      "nbconvert_exporter": "python",
      "pygments_lexer": "ipython3",
      "version": "3.5.4"
    },
    "colab": {
      "name": "debugging_exercise.ipynb.txt",
      "provenance": [],
      "include_colab_link": true
    }
  },
  "cells": [
    {
      "cell_type": "markdown",
      "metadata": {
        "id": "view-in-github",
        "colab_type": "text"
      },
      "source": [
        "<a href=\"https://colab.research.google.com/github/rams85/Python-Learnings/blob/main/debugging_exercise_ipynb_txt.ipynb\" target=\"_parent\"><img src=\"https://colab.research.google.com/assets/colab-badge.svg\" alt=\"Open In Colab\"/></a>"
      ]
    },
    {
      "cell_type": "markdown",
      "metadata": {
        "id": "nXFGrEeOsXF3"
      },
      "source": [
        "# 1. Identifying bugs in code\n",
        "The following `stripped_reversed_lowercase` function contains at least one bug. You can see this by running the code in the cell below which tests the functionality of the `stripped_reversed_lowercase` function.\n",
        "\n",
        "Set trace at the beginning of `stripped_reversed_lowercase` and use debugger to solve the bug(s). Execute the code line by line and print variables used in the function to understand what's going wrong. "
      ]
    },
    {
      "cell_type": "code",
      "metadata": {
        "colab": {
          "base_uri": "https://localhost:8080/"
        },
        "id": "F0umDBr2sXGF",
        "outputId": "247be702-e679-4724-a8d7-531830b7db78"
      },
      "source": [
        "def stripped_reversed_lowercase(original):\n",
        "    # Set a breakpoint here and start debugging\n",
        "    # import pdb; pdb.set_trace()\n",
        "    stripped = original.lstrip()\n",
        "    try:\n",
        "        reversed_str = ''.join(reversed(stripped))\n",
        "        reversed_str.lower()\n",
        "    except TypeError as e:\n",
        "        print(\"Error: {}\".format(e))\n",
        "    return str(reversed_str)\n",
        "\n",
        "original = ' \\n Original String '\n",
        "result = stripped_reversed_lowercase(original)\n",
        "print(result)"
      ],
      "execution_count": 2,
      "outputs": [
        {
          "output_type": "stream",
          "text": [
            " gnirtS lanigirO\n"
          ],
          "name": "stdout"
        }
      ]
    },
    {
      "cell_type": "code",
      "metadata": {
        "editable": false,
        "id": "HIe6Qw1QsXGI"
      },
      "source": [
        "# Let's verify it works\n",
        "original = ' \\n Original String '\n",
        "result = stripped_reversed_lowercase(original)\n",
        "assert result == 'gnirts lanigiro'"
      ],
      "execution_count": null,
      "outputs": []
    }
  ]
}