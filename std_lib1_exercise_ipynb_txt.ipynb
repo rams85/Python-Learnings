{
  "nbformat": 4,
  "nbformat_minor": 0,
  "metadata": {
    "kernelspec": {
      "display_name": "Python 3",
      "language": "python",
      "name": "python3"
    },
    "language_info": {
      "codemirror_mode": {
        "name": "ipython",
        "version": 3
      },
      "file_extension": ".py",
      "mimetype": "text/x-python",
      "name": "python",
      "nbconvert_exporter": "python",
      "pygments_lexer": "ipython3",
      "version": "3.5.4"
    },
    "colab": {
      "name": "std_lib1_exercise.ipynb.txt",
      "provenance": [],
      "include_colab_link": true
    }
  },
  "cells": [
    {
      "cell_type": "markdown",
      "metadata": {
        "id": "view-in-github",
        "colab_type": "text"
      },
      "source": [
        "<a href=\"https://colab.research.google.com/github/rams85/Python-Learnings/blob/main/std_lib1_exercise_ipynb_txt.ipynb\" target=\"_parent\"><img src=\"https://colab.research.google.com/assets/colab-badge.svg\" alt=\"Open In Colab\"/></a>"
      ]
    },
    {
      "cell_type": "code",
      "metadata": {
        "id": "VvfxHPYVAZC-"
      },
      "source": [
        "# pytz will be needed in the exercise\n",
        "import sys\n",
        "!{sys.executable} -m pip install pytz"
      ],
      "execution_count": null,
      "outputs": []
    },
    {
      "cell_type": "markdown",
      "metadata": {
        "id": "mODeb9UiAZDO"
      },
      "source": [
        "# 1. Playing with datetimes\n",
        "You're given a naive datetime, see `NAIVE_DT` variable below. Although this variable is naive, you happen to know that the time specified by `NAIVE_DT` is in UTC.\n",
        "\n",
        "Based on this information, your task is to create new datetime variables by converting `NAIVE_DT` to UTC and then to time in Sydney and Los Angeles. Use the following variable names: `utc_dt`, `sydney_dt`, and `la_dt`. "
      ]
    },
    {
      "cell_type": "code",
      "metadata": {
        "editable": false,
        "id": "c_qzTAVdAZDV"
      },
      "source": [
        "import datetime as dt\n",
        "import pytz\n",
        "\n",
        "NAIVE_DT = dt.datetime(2000, 1, 1, 10)"
      ],
      "execution_count": null,
      "outputs": []
    },
    {
      "cell_type": "markdown",
      "metadata": {
        "id": "TF9GnFbsAZDY"
      },
      "source": [
        "If you don't know the timezone name you're looking for, this may be helpful:"
      ]
    },
    {
      "cell_type": "code",
      "metadata": {
        "editable": false,
        "id": "Ppubn_YpAZDa"
      },
      "source": [
        "for tz in pytz.all_timezones:\n",
        "    print(tz)"
      ],
      "execution_count": null,
      "outputs": []
    },
    {
      "cell_type": "markdown",
      "metadata": {
        "id": "jjNVChs5AZDb"
      },
      "source": [
        "Now create `utc_dt`, `sydney_dt`, and `la_dt`."
      ]
    },
    {
      "cell_type": "code",
      "metadata": {
        "colab": {
          "base_uri": "https://localhost:8080/"
        },
        "id": "MUdl_M6LAZDc",
        "outputId": "74a6c9f5-5b15-4fb8-9858-8647416cdf6a"
      },
      "source": [
        "# Your implementation here\n",
        "\n",
        "import sys\n",
        "import datetime as dt\n",
        "import pytz\n",
        "\n",
        "NAIVE_DT = dt.datetime(2000, 1, 1, 10)\n",
        "UTC_TZ = pytz.timezone('UTC')\n",
        "utc_dt = UTC_TZ.localize(NAIVE_DT)\n",
        "\n",
        "AUS_TZ = pytz.timezone('Australia/Sydney')\n",
        "sydney_dt = AUS_TZ.normalize(utc_dt)\n",
        "\n",
        "US_TZ = pytz.timezone('America/Los_Angeles')\n",
        "la_dt = US_TZ.normalize(utc_dt)\n",
        "print(utc_dt.isoformat())\n",
        "print(sydney_dt.isoformat())\n",
        "print(la_dt.isoformat())\n",
        "\n",
        "print('All good!')"
      ],
      "execution_count": 3,
      "outputs": [
        {
          "output_type": "stream",
          "text": [
            "2000-01-01T10:00:00+00:00\n",
            "2000-01-01T21:00:00+11:00\n",
            "2000-01-01T02:00:00-08:00\n",
            "All good!\n"
          ],
          "name": "stdout"
        }
      ]
    },
    {
      "cell_type": "markdown",
      "metadata": {
        "id": "jBSus1OaAZDd"
      },
      "source": [
        "Let's verify that the solution is correct."
      ]
    },
    {
      "cell_type": "code",
      "metadata": {
        "editable": false,
        "id": "U5qj2HNYAZDd"
      },
      "source": [
        "assert utc_dt.isoformat() == '2000-01-01T10:00:00+00:00'\n",
        "assert sydney_dt.isoformat() == '2000-01-01T21:00:00+11:00'\n",
        "assert la_dt.isoformat() == '2000-01-01T02:00:00-08:00'\n",
        "\n",
        "print('All good!')"
      ],
      "execution_count": null,
      "outputs": []
    }
  ]
}