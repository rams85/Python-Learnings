{
  "nbformat": 4,
  "nbformat_minor": 0,
  "metadata": {
    "kernelspec": {
      "display_name": "Python 3",
      "language": "python",
      "name": "python3"
    },
    "language_info": {
      "codemirror_mode": {
        "name": "ipython",
        "version": 3
      },
      "file_extension": ".py",
      "mimetype": "text/x-python",
      "name": "python",
      "nbconvert_exporter": "python",
      "pygments_lexer": "ipython3",
      "version": "3.5.4"
    },
    "colab": {
      "name": "file_io_exercise.ipynb.txt",
      "provenance": [],
      "collapsed_sections": [],
      "include_colab_link": true
    }
  },
  "cells": [
    {
      "cell_type": "markdown",
      "metadata": {
        "id": "view-in-github",
        "colab_type": "text"
      },
      "source": [
        "<a href=\"https://colab.research.google.com/github/rams85/Python-Learnings/blob/main/file_io_exercise_ipynb_txt.ipynb\" target=\"_parent\"><img src=\"https://colab.research.google.com/assets/colab-badge.svg\" alt=\"Open In Colab\"/></a>"
      ]
    },
    {
      "cell_type": "code",
      "metadata": {
        "editable": false,
        "id": "IkBZXirSRvvf"
      },
      "source": [
        "# EXECUTE THIS ONE FIRST!\n",
        "\n",
        "import os\n",
        "\n",
        "# Constants for the exercises:\n",
        "WORKING_DIR = os.getcwd()\n",
        "DATA_DIR = os.path.join(os.path.dirname(WORKING_DIR), 'data')"
      ],
      "execution_count": null,
      "outputs": []
    },
    {
      "cell_type": "markdown",
      "metadata": {
        "id": "uzX_YwsiRvvq"
      },
      "source": [
        "# 1. Sum numbers listed in a file\n",
        "\n",
        "100\n",
        "89.5\n",
        "\n",
        "\n",
        "Fill ____ pieces of the code below. `sum_numbers_in_file` function takes a input file path as argument, reads the numbers listed in the input file and returns the sum of those numbers. You can assume that each line contains exactly one numeric value."
      ]
    },
    {
      "cell_type": "code",
      "metadata": {
        "id": "Wh3_ZLcLRvvw"
      },
      "source": [
        "def sum_numbers_in_file(input_file):\n",
        "    sum_ = 0  # A common way to use variable names that collide with built-in/keyword words is to add underscore\n",
        "    with open(input_file, \"r\") as txtfile:\n",
        "        for line in txtfile:\n",
        "            cont = line.strip()  # Remove potential white space \n",
        "            sum_ += float(sum_)\n",
        "    return sum_"
      ],
      "execution_count": null,
      "outputs": []
    },
    {
      "cell_type": "code",
      "metadata": {
        "editable": false,
        "colab": {
          "base_uri": "https://localhost:8080/",
          "height": 338
        },
        "id": "22Y9XkXMRvvz",
        "outputId": "9f2c1aaa-1654-4628-8faf-57c56f1828d0"
      },
      "source": [
        "# in_file = os.path.join(DATA_DIR, 'https://drive.google.com/drive/search?q=numbers.txt')\n",
        "assert sum_numbers_in_file(in_file) == 189.5\n",
        "print(sum_numbers_in_file('https://docs.google.com/document/d/1Bv4YUd6H5yZlVfFe6cEZ7fWXMPtseAUqdqEN5Lvuh1o/edit'))"
      ],
      "execution_count": null,
      "outputs": [
        {
          "output_type": "error",
          "ename": "FileNotFoundError",
          "evalue": "ignored",
          "traceback": [
            "\u001b[0;31m---------------------------------------------------------------------------\u001b[0m",
            "\u001b[0;31mFileNotFoundError\u001b[0m                         Traceback (most recent call last)",
            "\u001b[0;32m<ipython-input-14-0100ba02801e>\u001b[0m in \u001b[0;36m<module>\u001b[0;34m()\u001b[0m\n\u001b[1;32m      1\u001b[0m \u001b[0;31m# in_file = os.path.join(DATA_DIR, 'https://drive.google.com/drive/search?q=numbers.txt')\u001b[0m\u001b[0;34m\u001b[0m\u001b[0;34m\u001b[0m\u001b[0;34m\u001b[0m\u001b[0m\n\u001b[0;32m----> 2\u001b[0;31m \u001b[0;32massert\u001b[0m \u001b[0msum_numbers_in_file\u001b[0m\u001b[0;34m(\u001b[0m\u001b[0min_file\u001b[0m\u001b[0;34m)\u001b[0m \u001b[0;34m==\u001b[0m \u001b[0;36m189.5\u001b[0m\u001b[0;34m\u001b[0m\u001b[0;34m\u001b[0m\u001b[0m\n\u001b[0m\u001b[1;32m      3\u001b[0m \u001b[0mprint\u001b[0m\u001b[0;34m(\u001b[0m\u001b[0msum_numbers_in_file\u001b[0m\u001b[0;34m(\u001b[0m\u001b[0;34m'https://docs.google.com/document/d/1Bv4YUd6H5yZlVfFe6cEZ7fWXMPtseAUqdqEN5Lvuh1o/edit'\u001b[0m\u001b[0;34m)\u001b[0m\u001b[0;34m)\u001b[0m\u001b[0;34m\u001b[0m\u001b[0;34m\u001b[0m\u001b[0m\n",
            "\u001b[0;32m<ipython-input-1-7abef5aa54bb>\u001b[0m in \u001b[0;36msum_numbers_in_file\u001b[0;34m(input_file)\u001b[0m\n\u001b[1;32m      1\u001b[0m \u001b[0;32mdef\u001b[0m \u001b[0msum_numbers_in_file\u001b[0m\u001b[0;34m(\u001b[0m\u001b[0minput_file\u001b[0m\u001b[0;34m)\u001b[0m\u001b[0;34m:\u001b[0m\u001b[0;34m\u001b[0m\u001b[0;34m\u001b[0m\u001b[0m\n\u001b[1;32m      2\u001b[0m     \u001b[0msum_\u001b[0m \u001b[0;34m=\u001b[0m \u001b[0;36m0\u001b[0m  \u001b[0;31m# A common way to use variable names that collide with built-in/keyword words is to add underscore\u001b[0m\u001b[0;34m\u001b[0m\u001b[0;34m\u001b[0m\u001b[0m\n\u001b[0;32m----> 3\u001b[0;31m     \u001b[0;32mwith\u001b[0m \u001b[0mopen\u001b[0m\u001b[0;34m(\u001b[0m\u001b[0minput_file\u001b[0m\u001b[0;34m,\u001b[0m \u001b[0;34m\"r\"\u001b[0m\u001b[0;34m)\u001b[0m \u001b[0;32mas\u001b[0m \u001b[0mtxtfile\u001b[0m\u001b[0;34m:\u001b[0m\u001b[0;34m\u001b[0m\u001b[0;34m\u001b[0m\u001b[0m\n\u001b[0m\u001b[1;32m      4\u001b[0m         \u001b[0;32mfor\u001b[0m \u001b[0mline\u001b[0m \u001b[0;32min\u001b[0m \u001b[0mtxtfile\u001b[0m\u001b[0;34m:\u001b[0m\u001b[0;34m\u001b[0m\u001b[0;34m\u001b[0m\u001b[0m\n\u001b[1;32m      5\u001b[0m             \u001b[0mcont\u001b[0m \u001b[0;34m=\u001b[0m \u001b[0mline\u001b[0m\u001b[0;34m.\u001b[0m\u001b[0mstrip\u001b[0m\u001b[0;34m(\u001b[0m\u001b[0;34m)\u001b[0m  \u001b[0;31m# Remove potential white space\u001b[0m\u001b[0;34m\u001b[0m\u001b[0;34m\u001b[0m\u001b[0m\n",
            "\u001b[0;31mFileNotFoundError\u001b[0m: [Errno 2] No such file or directory: '/data/https://drive.google.com/drive/search?q=numbers.txt'"
          ]
        }
      ]
    },
    {
      "cell_type": "markdown",
      "metadata": {
        "id": "ByG-LAkfRvv1"
      },
      "source": [
        "# 2. Reading first word from each line of a file\n",
        "Implement `find_first_words` function which takes an input file path as argument. The function should find the first word of each line in the file and return these words as a list. If a line is empty, the returned list should contain an empty string for that line."
      ]
    },
    {
      "cell_type": "code",
      "metadata": {
        "id": "wizSqqdvRvv3",
        "colab": {
          "base_uri": "https://localhost:8080/",
          "height": 246
        },
        "outputId": "1564839b-1ec3-454a-9840-51e01a73169e"
      },
      "source": [
        "# Your implementation here\n",
        "import os\n",
        "def fetch_first_words_in_file(input_file):\n",
        "  expected_file_1 = []\n",
        "  with open(input_file, 'r') as f:\n",
        "    expected_file_1 = [line.split(None, 1)[0] for line in f]\n",
        "    return expected_file_1\n",
        "\n",
        "in_file1 = os.path.join(DATA_DIR, 'simple_file.txt')\n",
        "in_file2 = os.path.join(DATA_DIR, 'simple_file_with_empty_lines.txt')\n",
        "\n",
        "expected_file_1 = ['First', 'Second', 'Third', 'And']\n",
        "assert find_first_words(in_file1) == expected_file_1\n",
        "\n",
        "expected_file_2 = ['The', '', 'First', 'nonsense', '', 'Then']\n",
        "assert find_first_words(in_file2) == expected_file_2"
      ],
      "execution_count": 4,
      "outputs": [
        {
          "output_type": "error",
          "ename": "NameError",
          "evalue": "ignored",
          "traceback": [
            "\u001b[0;31m---------------------------------------------------------------------------\u001b[0m",
            "\u001b[0;31mNameError\u001b[0m                                 Traceback (most recent call last)",
            "\u001b[0;32m<ipython-input-4-611ba65bc5b2>\u001b[0m in \u001b[0;36m<module>\u001b[0;34m()\u001b[0m\n\u001b[1;32m      9\u001b[0m \u001b[0;34m\u001b[0m\u001b[0m\n\u001b[1;32m     10\u001b[0m \u001b[0;34m\u001b[0m\u001b[0m\n\u001b[0;32m---> 11\u001b[0;31m \u001b[0min_file1\u001b[0m \u001b[0;34m=\u001b[0m \u001b[0mos\u001b[0m\u001b[0;34m.\u001b[0m\u001b[0mpath\u001b[0m\u001b[0;34m.\u001b[0m\u001b[0mjoin\u001b[0m\u001b[0;34m(\u001b[0m\u001b[0mDATA_DIR\u001b[0m\u001b[0;34m,\u001b[0m \u001b[0;34m'simple_file.txt'\u001b[0m\u001b[0;34m)\u001b[0m\u001b[0;34m\u001b[0m\u001b[0;34m\u001b[0m\u001b[0m\n\u001b[0m\u001b[1;32m     12\u001b[0m \u001b[0min_file2\u001b[0m \u001b[0;34m=\u001b[0m \u001b[0mos\u001b[0m\u001b[0;34m.\u001b[0m\u001b[0mpath\u001b[0m\u001b[0;34m.\u001b[0m\u001b[0mjoin\u001b[0m\u001b[0;34m(\u001b[0m\u001b[0mDATA_DIR\u001b[0m\u001b[0;34m,\u001b[0m \u001b[0;34m'simple_file_with_empty_lines.txt'\u001b[0m\u001b[0;34m)\u001b[0m\u001b[0;34m\u001b[0m\u001b[0;34m\u001b[0m\u001b[0m\n\u001b[1;32m     13\u001b[0m \u001b[0;34m\u001b[0m\u001b[0m\n",
            "\u001b[0;31mNameError\u001b[0m: name 'DATA_DIR' is not defined"
          ]
        }
      ]
    },
    {
      "cell_type": "markdown",
      "metadata": {
        "id": "J2D8ewMZVlbL"
      },
      "source": [
        ""
      ]
    },
    {
      "cell_type": "code",
      "metadata": {
        "editable": false,
        "id": "W5SdzoIERvv4"
      },
      "source": [
        "in_file1 = os.path.join(DATA_DIR, 'simple_file.txt')\n",
        "in_file2 = os.path.join(DATA_DIR, 'simple_file_with_empty_lines.txt')\n",
        "\n",
        "expected_file_1 = ['First', 'Second', 'Third', 'And']\n",
        "assert find_first_words(in_file1) == expected_file_1\n",
        "\n",
        "expected_file_2 = ['The', '', 'First', 'nonsense', '', 'Then']\n",
        "assert find_first_words(in_file2) == expected_file_2"
      ],
      "execution_count": null,
      "outputs": []
    }
  ]
}