{
  "nbformat": 4,
  "nbformat_minor": 0,
  "metadata": {
    "kernelspec": {
      "display_name": "Python 3",
      "language": "python",
      "name": "python3"
    },
    "language_info": {
      "codemirror_mode": {
        "name": "ipython",
        "version": 3
      },
      "file_extension": ".py",
      "mimetype": "text/x-python",
      "name": "python",
      "nbconvert_exporter": "python",
      "pygments_lexer": "ipython3",
      "version": "3.5.4"
    },
    "colab": {
      "name": "for_loops_exercise.ipynb.txt",
      "provenance": [],
      "include_colab_link": true
    }
  },
  "cells": [
    {
      "cell_type": "markdown",
      "metadata": {
        "id": "view-in-github",
        "colab_type": "text"
      },
      "source": [
        "<a href=\"https://colab.research.google.com/github/rams85/Python-Learnings/blob/main/for_loops_exercise_ipynb_txt.ipynb\" target=\"_parent\"><img src=\"https://colab.research.google.com/assets/colab-badge.svg\" alt=\"Open In Colab\"/></a>"
      ]
    },
    {
      "cell_type": "markdown",
      "metadata": {
        "id": "knBPnVMzdoId"
      },
      "source": [
        "# 1. Fill the missing pieces\n",
        "Fill the `____` parts in the code below."
      ]
    },
    {
      "cell_type": "code",
      "metadata": {
        "id": "qpdz0oVpdoIs",
        "colab": {
          "base_uri": "https://localhost:8080/"
        },
        "outputId": "bcd0bd9c-2759-4817-bd92-cdaf412ef314"
      },
      "source": [
        "words = ['PYTHON', 'JOHN', 'chEEse', 'hAm', 'DOE', '123']\n",
        "upper_case_words = []\n",
        "\n",
        "for item in words:\n",
        "    if item.isupper():\n",
        "        upper_case_words.append(item)\n",
        "print(upper_case_words)"
      ],
      "execution_count": 5,
      "outputs": [
        {
          "output_type": "stream",
          "text": [
            "['PYTHON', 'JOHN', 'DOE']\n"
          ],
          "name": "stdout"
        }
      ]
    },
    {
      "cell_type": "code",
      "metadata": {
        "editable": false,
        "id": "q7LDf-ZxdoIu"
      },
      "source": [
        "assert upper_case_words == ['PYTHON', 'JOHN', 'DOE']"
      ],
      "execution_count": null,
      "outputs": []
    },
    {
      "cell_type": "markdown",
      "metadata": {
        "id": "hY-fhV2cdoIv"
      },
      "source": [
        "# 2. Calculate the sum of dict values\n",
        "Calculate the sum of the values in `magic_dict` by taking only into account numeric values (hint: see [isinstance](https://docs.python.org/3/library/functions.html#isinstance)). "
      ]
    },
    {
      "cell_type": "code",
      "metadata": {
        "editable": false,
        "id": "-nBfYs16doIw",
        "colab": {
          "base_uri": "https://localhost:8080/"
        },
        "outputId": "eea6404c-c2c8-4aea-b8a7-d20b86dfa022"
      },
      "source": [
        "import math\n",
        "\n",
        "magic_dict = dict(val1=44, val2='secret value', val3=55.0, val4=1)\n",
        "sum_of_values = 0;\n",
        "for key, val in magic_dict.items():\n",
        "  if isinstance(val, int) or isinstance(val, float):\n",
        "    sum_of_values +=  val    \n",
        "print(math.trunc(sum_of_values))"
      ],
      "execution_count": 25,
      "outputs": [
        {
          "output_type": "stream",
          "text": [
            "100\n"
          ],
          "name": "stdout"
        }
      ]
    },
    {
      "cell_type": "code",
      "metadata": {
        "id": "r9txRuMrdoIy",
        "colab": {
          "base_uri": "https://localhost:8080/"
        },
        "outputId": "64ba36d1-8bfd-4c2f-d29f-ddbbc30fc586"
      },
      "source": [
        "# Your implementation\n",
        "sum_of_values = print(math.trunc(sum_of_values))"
      ],
      "execution_count": 26,
      "outputs": [
        {
          "output_type": "stream",
          "text": [
            "100\n"
          ],
          "name": "stdout"
        }
      ]
    },
    {
      "cell_type": "code",
      "metadata": {
        "editable": false,
        "id": "nOX-lh6fdoIy"
      },
      "source": [
        "assert sum_of_values == 100"
      ],
      "execution_count": null,
      "outputs": []
    },
    {
      "cell_type": "markdown",
      "metadata": {
        "id": "d4sLCat1doIz"
      },
      "source": [
        "# 3. Create a list of strings based on a list of numbers\n",
        "The rules:\n",
        "* If the number is a multiple of five and odd, the string should be `'five odd'`\n",
        "* If the number is a multiple of five and even, the string should be `'five even'`\n",
        "* If the number is odd, the string is `'odd'`\n",
        "* If the number is even, the string is `'even'`"
      ]
    },
    {
      "cell_type": "code",
      "metadata": {
        "editable": false,
        "id": "IO2B66o3doI0"
      },
      "source": [
        "numbers = [1, 3, 4, 6, 81, 80, 100, 95]"
      ],
      "execution_count": null,
      "outputs": []
    },
    {
      "cell_type": "code",
      "metadata": {
        "id": "CUcgQoFadoI1"
      },
      "source": [
        "# Your implementation\n",
        "my_list = "
      ],
      "execution_count": null,
      "outputs": []
    },
    {
      "cell_type": "code",
      "metadata": {
        "editable": false,
        "id": "G0heg1pQdoI2"
      },
      "source": [
        "assert my_list == ['odd', 'odd', 'even', 'even', 'odd', 'five even', 'five even', 'five odd']"
      ],
      "execution_count": null,
      "outputs": []
    }
  ]
}