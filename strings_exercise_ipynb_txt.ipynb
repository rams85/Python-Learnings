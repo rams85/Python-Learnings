{
  "nbformat": 4,
  "nbformat_minor": 0,
  "metadata": {
    "kernelspec": {
      "display_name": "Python 3",
      "language": "python",
      "name": "python3"
    },
    "language_info": {
      "codemirror_mode": {
        "name": "ipython",
        "version": 3
      },
      "file_extension": ".py",
      "mimetype": "text/x-python",
      "name": "python",
      "nbconvert_exporter": "python",
      "pygments_lexer": "ipython3",
      "version": "3.5.4"
    },
    "colab": {
      "name": "strings_exercise.ipynb.txt",
      "provenance": [],
      "collapsed_sections": []
    }
  },
  "cells": [
    {
      "cell_type": "markdown",
      "metadata": {
        "id": "jAZfsXSbNvnD"
      },
      "source": [
        "# 1. Fill missing pieces\n",
        "Fill `____` pieces below to have correct values for `lower_cased`, `stripped` and `stripped_lower_case` variables."
      ]
    },
    {
      "cell_type": "code",
      "metadata": {
        "id": "C3HK6UU4NvnI"
      },
      "source": [
        "original = ' Python strings are COOL! '\n",
        "lower_cased = original.lower()\n",
        "stripped = lower_cased.strip()\n",
        "stripped_lower_cased = original.lower().strip()"
      ],
      "execution_count": null,
      "outputs": []
    },
    {
      "cell_type": "markdown",
      "metadata": {
        "id": "hhvBkx15NvnL"
      },
      "source": [
        "Let's verify that the implementation is correct by running the cell below. `assert` will raise `AssertionError` if the statement is not true.  "
      ]
    },
    {
      "cell_type": "code",
      "metadata": {
        "editable": false,
        "id": "c3_D9nCuNvnO"
      },
      "source": [
        "assert lower_cased == ' python strings are cool! '\n",
        "assert stripped == 'Python strings are COOL!'\n",
        "assert stripped_lower_cased == 'python strings are cool!'"
      ],
      "execution_count": null,
      "outputs": []
    },
    {
      "cell_type": "markdown",
      "metadata": {
        "id": "PTDGiwczNvnP"
      },
      "source": [
        "# 2. Prettify ugly string\n",
        "Use `str` methods to convert `ugly` to wanted `pretty`."
      ]
    },
    {
      "cell_type": "code",
      "metadata": {
        "editable": false,
        "id": "dlveeHdBNvnQ"
      },
      "source": [
        "ugly = ' tiTle of MY new Book\\n\\n'"
      ],
      "execution_count": null,
      "outputs": []
    },
    {
      "cell_type": "code",
      "metadata": {
        "colab": {
          "base_uri": "https://localhost:8080/",
          "height": 36
        },
        "id": "W6Ayc94ubeVm",
        "outputId": "96f3ffac-5ce0-4bb6-c1de-214b39ebfdde"
      },
      "source": [
        "ugly = ' tiTle of MY new Book\\n\\n'\n",
        "ugly.strip().title()"
      ],
      "execution_count": null,
      "outputs": [
        {
          "output_type": "execute_result",
          "data": {
            "application/vnd.google.colaboratory.intrinsic+json": {
              "type": "string"
            },
            "text/plain": [
              "'Title Of My New Book'"
            ]
          },
          "metadata": {
            "tags": []
          },
          "execution_count": 30
        }
      ]
    },
    {
      "cell_type": "code",
      "metadata": {
        "id": "l30nHvWpb3ay"
      },
      "source": [
        ""
      ],
      "execution_count": null,
      "outputs": []
    },
    {
      "cell_type": "code",
      "metadata": {
        "id": "HJI8O6B1NvnR"
      },
      "source": [
        "# Your implementation:\n",
        "pretty = ugly.strip().title()"
      ],
      "execution_count": null,
      "outputs": []
    },
    {
      "cell_type": "markdown",
      "metadata": {
        "id": "hU66LPUYNvnS"
      },
      "source": [
        "Let's make sure that it does what we want. `assert` raises [`AssertionError`](https://docs.python.org/3/library/exceptions.html#AssertionError) if the statement is not `True`."
      ]
    },
    {
      "cell_type": "code",
      "metadata": {
        "editable": false,
        "colab": {
          "base_uri": "https://localhost:8080/"
        },
        "id": "21cvelkaNvnT",
        "outputId": "1acf9127-685a-4fd5-c414-5370bd4f99f6"
      },
      "source": [
        "assert pretty == 'Title Of My New Book'\n",
        "print('pretty: {}'.format(pretty))"
      ],
      "execution_count": null,
      "outputs": [
        {
          "output_type": "stream",
          "text": [
            "pretty: Title Of My New Book\n"
          ],
          "name": "stdout"
        }
      ]
    },
    {
      "cell_type": "markdown",
      "metadata": {
        "id": "3zHptrwQNvnU"
      },
      "source": [
        "# 3. Format string based on existing variables\n",
        "Create `sentence` by using `verb`, `language`, and `punctuation` and any other strings you may need."
      ]
    },
    {
      "cell_type": "code",
      "metadata": {
        "editable": false,
        "colab": {
          "base_uri": "https://localhost:8080/"
        },
        "id": "Sdai5ay1NvnV",
        "outputId": "a475e711-1699-4c70-b840-6d78797051ce"
      },
      "source": [
        "verb = 'is'\n",
        "language = 'Python'\n",
        "punctuation = '!'"
      ],
      "execution_count": null,
      "outputs": [
        {
          "output_type": "stream",
          "text": [
            "Python is a good language !\n"
          ],
          "name": "stdout"
        }
      ]
    },
    {
      "cell_type": "code",
      "metadata": {
        "colab": {
          "base_uri": "https://localhost:8080/"
        },
        "id": "Msz9JKBgNvnX",
        "outputId": "9b9af40e-2f91-4766-93e2-7d6f6d949ad5"
      },
      "source": [
        "# Your implementation:\n",
        "verb = 'is'\n",
        "language = 'Python'\n",
        "punctuation = '!'\n",
        "sentence = ' '.join(['Learning', language, verb, 'fun', punctuation])\n",
        "sentence = sentence.strip()\n",
        "print(sentence.rstrip())"
      ],
      "execution_count": 12,
      "outputs": [
        {
          "output_type": "stream",
          "text": [
            "Learning Python is fun !\n"
          ],
          "name": "stdout"
        }
      ]
    },
    {
      "cell_type": "code",
      "metadata": {
        "editable": false,
        "id": "oEROMTu0NvnY"
      },
      "source": [
        "print('sentence: {}'.format(sentence))\n",
        "assert sentence == 'Learning Python is fun!'\n",
        "\n"
      ],
      "execution_count": null,
      "outputs": []
    }
  ]
}