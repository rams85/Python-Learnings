{
  "nbformat": 4,
  "nbformat_minor": 0,
  "metadata": {
    "kernelspec": {
      "display_name": "Python 3",
      "language": "python",
      "name": "python3"
    },
    "language_info": {
      "codemirror_mode": {
        "name": "ipython",
        "version": 3
      },
      "file_extension": ".py",
      "mimetype": "text/x-python",
      "name": "python",
      "nbconvert_exporter": "python",
      "pygments_lexer": "ipython3",
      "version": "3.5.4"
    },
    "colab": {
      "name": "conditionals_exercise.ipynb.txt",
      "provenance": [],
      "include_colab_link": true
    }
  },
  "cells": [
    {
      "cell_type": "markdown",
      "metadata": {
        "id": "view-in-github",
        "colab_type": "text"
      },
      "source": [
        "<a href=\"https://colab.research.google.com/github/rams85/Python-Learnings/blob/main/conditionals_exercise_ipynb_txt.ipynb\" target=\"_parent\"><img src=\"https://colab.research.google.com/assets/colab-badge.svg\" alt=\"Open In Colab\"/></a>"
      ]
    },
    {
      "cell_type": "markdown",
      "metadata": {
        "id": "G_3SWgDFpy4N"
      },
      "source": [
        "# 1. `if-elif-else`\n",
        "Fill missing pieces (`____`) of the following code such that prints make sense."
      ]
    },
    {
      "cell_type": "code",
      "metadata": {
        "editable": false,
        "id": "bxOnzwbxpy4c"
      },
      "source": [
        "name = 'John Doe'"
      ],
      "execution_count": null,
      "outputs": []
    },
    {
      "cell_type": "code",
      "metadata": {
        "colab": {
          "base_uri": "https://localhost:8080/"
        },
        "id": "bjwvJQjvpy4d",
        "outputId": "f8460c91-c087-436c-a790-b8fd46290670"
      },
      "source": [
        "name = 'John Doe'\n",
        "\n",
        "if len(name) <=15 and len(name) >20:\n",
        "    print('Name \"{}\" is more than 20 chars long'.format(name))\n",
        "    length_description = 'long'\n",
        "elif len(name) <=10 and len(name) >15:\n",
        "    print('Name \"{}\" is more than 15 chars long'.format(name))\n",
        "    length_description = 'semi long'\n",
        "elif len(name) > 10:\n",
        "    print('Name \"{}\" is more than 10 chars long'.format(name))\n",
        "    length_description = 'semi long'\n",
        "elif len(name) <= 8 <=9 <=10:\n",
        "    print('Name \"{}\" is 8, 9 or 10 chars long'.format(name))\n",
        "    length_description = 'semi short'\n",
        "else:\n",
        "    print('Name \"{}\" is a short name'.format(name))\n",
        "    length_description = 'short'\n",
        "\n",
        "print(length_description)"
      ],
      "execution_count": 12,
      "outputs": [
        {
          "output_type": "stream",
          "text": [
            "Name \"John Doe\" is 8, 9 or 10 chars long\n",
            "semi short\n"
          ],
          "name": "stdout"
        }
      ]
    },
    {
      "cell_type": "code",
      "metadata": {
        "editable": false,
        "id": "MjatT83zpy4f"
      },
      "source": [
        "assert length_description == 'semi short'"
      ],
      "execution_count": null,
      "outputs": []
    }
  ]
}