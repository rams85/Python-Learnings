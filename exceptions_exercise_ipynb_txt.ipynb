{
  "nbformat": 4,
  "nbformat_minor": 0,
  "metadata": {
    "kernelspec": {
      "display_name": "Python 3",
      "language": "python",
      "name": "python3"
    },
    "language_info": {
      "codemirror_mode": {
        "name": "ipython",
        "version": 3
      },
      "file_extension": ".py",
      "mimetype": "text/x-python",
      "name": "python",
      "nbconvert_exporter": "python",
      "pygments_lexer": "ipython3",
      "version": "3.5.4"
    },
    "colab": {
      "name": "exceptions_exercise.ipynb.txt",
      "provenance": [],
      "include_colab_link": true
    }
  },
  "cells": [
    {
      "cell_type": "markdown",
      "metadata": {
        "id": "view-in-github",
        "colab_type": "text"
      },
      "source": [
        "<a href=\"https://colab.research.google.com/github/rams85/Python-Learnings/blob/main/exceptions_exercise_ipynb_txt.ipynb\" target=\"_parent\"><img src=\"https://colab.research.google.com/assets/colab-badge.svg\" alt=\"Open In Colab\"/></a>"
      ]
    },
    {
      "cell_type": "markdown",
      "metadata": {
        "id": "WOZsLLhqfmzh"
      },
      "source": [
        "# 1. Dealing with exceptions\n",
        "Fill `____` parts of the implementation below. `sum_of_list` function takes a list as argument and calculates the sum of values in the list. If some element in the list can not be converted to a numeric value, it should be ignored from the sum."
      ]
    },
    {
      "cell_type": "code",
      "metadata": {
        "id": "Ypi-0cDOfmzx"
      },
      "source": [
        "def sum_of_list(values):\n",
        "    sum = 0\n",
        "    for val in values:\n",
        "        try:\n",
        "            numeric_val = float(val)\n",
        "        except ValueError as e:\n",
        "            pass\n",
        "        sum += numeric_val\n",
        "    return sum"
      ],
      "execution_count": 1,
      "outputs": []
    },
    {
      "cell_type": "code",
      "metadata": {
        "editable": false,
        "id": "5US4AmRpfmz1"
      },
      "source": [
        "list1 = [1, 2, 3]\n",
        "list2 = ['1', 2.5, '3.0']\n",
        "list3 = ['', '1']\n",
        "list4 = []\n",
        "list5 = ['John', 'Doe', 'was', 'here']\n",
        "nasty_list = [KeyError(), [], dict()]\n",
        "\n",
        "assert sum_of_list(list1) == 6\n",
        "assert sum_of_list(list2) == 6.5\n",
        "assert sum_of_list(list3) == 1\n",
        "assert sum_of_list(list4) == 0\n",
        "assert sum_of_list(list5) == 0\n",
        "assert sum_of_list(nasty_list) == 0"
      ],
      "execution_count": null,
      "outputs": []
    },
    {
      "cell_type": "markdown",
      "metadata": {
        "id": "VVnR32Tffmz4"
      },
      "source": [
        "# 2. Using custom exceptions\n",
        "Implement `verify_short_string` function which takes a single string as argument. If the length of the input string is more than ten characters, the function should raise `TooLongString` exception (note: you have to create `TooLongString` yourself). The function does not have to return anything.  "
      ]
    },
    {
      "cell_type": "code",
      "metadata": {
        "colab": {
          "base_uri": "https://localhost:8080/",
          "height": 374
        },
        "id": "sHwJ-Hgqfmz6",
        "outputId": "916d6e49-2722-4f92-faee-adcab0157b86"
      },
      "source": [
        "# Your implementation here\n",
        "class TooLongString(Exception):\n",
        "    pass\n",
        "\n",
        "def verify_short_string(text):\n",
        "    if len(text) > 10:\n",
        "        msg = 'Too Long: {}'.format(text)\n",
        "        raise TooLongString(msg)\n",
        "\n",
        "verify_short_string('short') \n",
        "verify_short_string('10   chars')\n",
        "verify_short_string('this is long')\n",
        "\n",
        "# This should raise\n",
        "try:\n",
        "    verify_short_string('this is long')\n",
        "except TooLongString as e:\n",
        "    # This is ok\n",
        "    pass\n",
        "else:\n",
        "    # This means that there was no exception\n",
        "    assert False "
      ],
      "execution_count": 11,
      "outputs": [
        {
          "output_type": "error",
          "ename": "TooLongString",
          "evalue": "ignored",
          "traceback": [
            "\u001b[0;31m---------------------------------------------------------------------------\u001b[0m",
            "\u001b[0;31mTooLongString\u001b[0m                             Traceback (most recent call last)",
            "\u001b[0;32m<ipython-input-11-5f4dfb999f7f>\u001b[0m in \u001b[0;36m<module>\u001b[0;34m()\u001b[0m\n\u001b[1;32m     10\u001b[0m \u001b[0mverify_short_string\u001b[0m\u001b[0;34m(\u001b[0m\u001b[0;34m'short'\u001b[0m\u001b[0;34m)\u001b[0m\u001b[0;34m\u001b[0m\u001b[0;34m\u001b[0m\u001b[0m\n\u001b[1;32m     11\u001b[0m \u001b[0mverify_short_string\u001b[0m\u001b[0;34m(\u001b[0m\u001b[0;34m'10   chars'\u001b[0m\u001b[0;34m)\u001b[0m\u001b[0;34m\u001b[0m\u001b[0;34m\u001b[0m\u001b[0m\n\u001b[0;32m---> 12\u001b[0;31m \u001b[0mverify_short_string\u001b[0m\u001b[0;34m(\u001b[0m\u001b[0;34m'this is long'\u001b[0m\u001b[0;34m)\u001b[0m\u001b[0;34m\u001b[0m\u001b[0;34m\u001b[0m\u001b[0m\n\u001b[0m\u001b[1;32m     13\u001b[0m \u001b[0;34m\u001b[0m\u001b[0m\n\u001b[1;32m     14\u001b[0m \u001b[0;31m# This should raise\u001b[0m\u001b[0;34m\u001b[0m\u001b[0;34m\u001b[0m\u001b[0;34m\u001b[0m\u001b[0m\n",
            "\u001b[0;32m<ipython-input-11-5f4dfb999f7f>\u001b[0m in \u001b[0;36mverify_short_string\u001b[0;34m(text)\u001b[0m\n\u001b[1;32m      6\u001b[0m     \u001b[0;32mif\u001b[0m \u001b[0mlen\u001b[0m\u001b[0;34m(\u001b[0m\u001b[0mtext\u001b[0m\u001b[0;34m)\u001b[0m \u001b[0;34m>\u001b[0m \u001b[0;36m10\u001b[0m\u001b[0;34m:\u001b[0m\u001b[0;34m\u001b[0m\u001b[0;34m\u001b[0m\u001b[0m\n\u001b[1;32m      7\u001b[0m         \u001b[0mmsg\u001b[0m \u001b[0;34m=\u001b[0m \u001b[0;34m'Too Long: {}'\u001b[0m\u001b[0;34m.\u001b[0m\u001b[0mformat\u001b[0m\u001b[0;34m(\u001b[0m\u001b[0mtext\u001b[0m\u001b[0;34m)\u001b[0m\u001b[0;34m\u001b[0m\u001b[0;34m\u001b[0m\u001b[0m\n\u001b[0;32m----> 8\u001b[0;31m         \u001b[0;32mraise\u001b[0m \u001b[0mTooLongString\u001b[0m\u001b[0;34m(\u001b[0m\u001b[0mmsg\u001b[0m\u001b[0;34m)\u001b[0m\u001b[0;34m\u001b[0m\u001b[0;34m\u001b[0m\u001b[0m\n\u001b[0m\u001b[1;32m      9\u001b[0m \u001b[0;34m\u001b[0m\u001b[0m\n\u001b[1;32m     10\u001b[0m \u001b[0mverify_short_string\u001b[0m\u001b[0;34m(\u001b[0m\u001b[0;34m'short'\u001b[0m\u001b[0;34m)\u001b[0m\u001b[0;34m\u001b[0m\u001b[0;34m\u001b[0m\u001b[0m\n",
            "\u001b[0;31mTooLongString\u001b[0m: Too Long: this is long"
          ]
        }
      ]
    },
    {
      "cell_type": "code",
      "metadata": {
        "editable": false,
        "id": "q3Oac9yKfmz6"
      },
      "source": [
        "# These should not raise\n",
        "verify_short_string('short') \n",
        "verify_short_string('10   chars')\n",
        "\n",
        "# This should raise\n",
        "try:\n",
        "    verify_short_string('this is long')\n",
        "except TooLongString as e:\n",
        "    # This is ok\n",
        "    pass\n",
        "else:\n",
        "    # This means that there was no exception\n",
        "    assert False "
      ],
      "execution_count": null,
      "outputs": []
    }
  ]
}