{
  "nbformat": 4,
  "nbformat_minor": 0,
  "metadata": {
    "celltoolbar": "Edit Metadata",
    "kernelspec": {
      "display_name": "Python 3",
      "language": "python",
      "name": "python3"
    },
    "language_info": {
      "codemirror_mode": {
        "name": "ipython",
        "version": 3
      },
      "file_extension": ".py",
      "mimetype": "text/x-python",
      "name": "python",
      "nbconvert_exporter": "python",
      "pygments_lexer": "ipython3",
      "version": "3.5.4"
    },
    "colab": {
      "name": "dictionaries_exercise.ipynb.txt",
      "provenance": [],
      "include_colab_link": true
    }
  },
  "cells": [
    {
      "cell_type": "markdown",
      "metadata": {
        "id": "view-in-github",
        "colab_type": "text"
      },
      "source": [
        "<a href=\"https://colab.research.google.com/github/rams85/Python-Learnings/blob/main/dictionaries_exercise_ipynb_txt.ipynb\" target=\"_parent\"><img src=\"https://colab.research.google.com/assets/colab-badge.svg\" alt=\"Open In Colab\"/></a>"
      ]
    },
    {
      "cell_type": "markdown",
      "metadata": {
        "id": "fNKk8-1jLBNG"
      },
      "source": [
        "# 1. Populating a dictionary\n",
        "Create a dictionary by using all the given variables."
      ]
    },
    {
      "cell_type": "code",
      "metadata": {
        "editable": false,
        "id": "VlF0iiacLBNm"
      },
      "source": [
        "first_name = 'John'\n",
        "last_name = 'Doe'\n",
        "favorite_hobby = 'Python'\n",
        "sports_hobby = 'gym'\n",
        "age = 82"
      ],
      "execution_count": null,
      "outputs": []
    },
    {
      "cell_type": "code",
      "metadata": {
        "colab": {
          "base_uri": "https://localhost:8080/"
        },
        "id": "GWd1GvrjLBNs",
        "outputId": "69471ca7-98fb-42ad-92dd-070b18e1cc0e"
      },
      "source": [
        "# Your implementation\n",
        "hobbies = ['Python', 'gym']\n",
        "my_dict = {'name': 'John Doe', 'age': 82, 'hobbies': hobbies}\n",
        "print(my_dict)"
      ],
      "execution_count": 8,
      "outputs": [
        {
          "output_type": "stream",
          "text": [
            "{'name': 'John Doe', 'age': 82, 'hobbies': ['Python', 'gym']}\n"
          ],
          "name": "stdout"
        }
      ]
    },
    {
      "cell_type": "code",
      "metadata": {
        "editable": false,
        "id": "GQhjIPh6LBNu"
      },
      "source": [
        "assert my_dict == {\n",
        "        'name': 'John Doe',\n",
        "        'age': 82,\n",
        "        'hobbies': ['Python', 'gym']\n",
        "    }"
      ],
      "execution_count": null,
      "outputs": []
    },
    {
      "cell_type": "markdown",
      "metadata": {
        "id": "ddjsKNZ6LBNw"
      },
      "source": [
        "# 2. Accessing and merging dictionaries\n",
        "Combine `dict1`, `dict2`, and `dict3` into `my_dict`. In addition, get the value of `special_key` from `my_dict` into a `special_value` variable. Note that original dictionaries should stay untouched and `special_key` should be removed from `my_dict`."
      ]
    },
    {
      "cell_type": "code",
      "metadata": {
        "editable": false,
        "id": "Qr9R89_GLBNy"
      },
      "source": [
        "dict1 = dict(key1='This is not that hard', key2='Python is still cool')\n",
        "dict2 = {'key1': 123, 'special_key': 'secret'}\n",
        "# This is also a away to initialize a dict (list of tuples) \n",
        "dict3 = dict([('key2', 456), ('keyX', 'X')])"
      ],
      "execution_count": null,
      "outputs": []
    },
    {
      "cell_type": "code",
      "metadata": {
        "colab": {
          "base_uri": "https://localhost:8080/"
        },
        "id": "wjiWlUZsLBNz",
        "outputId": "d4117469-69f5-4f43-c2c6-533672f3a68d"
      },
      "source": [
        "# 'Your impelementation'\n",
        "dict1 = dict(key1='This is not that hard', key2='Python is still cool')\n",
        "dict2 = {'key1': 123, 'special_key': 'secret'}\n",
        "# This is also a away to initialize a dict (list of tuples) \n",
        "dict3 = dict([('key2', 456), ('keyX', 'X')])\n",
        "my_dict = {}\n",
        "my_dict.update(dict1)\n",
        "my_dict.update(dict2)\n",
        "my_dict.update(dict3)\n",
        "\n",
        "print('my_dict == {}'.format(my_dict))\n",
        "special_value = my_dict.pop('special_key')\n",
        "print('special_value: {}'.format(special_value))\n",
        "print('\\ndict1 == {}'.format(dict1))\n",
        "print('\\ndict2 == {}'.format(dict2))\n",
        "print('\\ndict3 == {}'.format(dict3))"
      ],
      "execution_count": 38,
      "outputs": [
        {
          "output_type": "stream",
          "text": [
            "my_dict == {'key1': 123, 'key2': 456, 'special_key': 'secret', 'keyX': 'X'}\n",
            "special_value: secret\n",
            "\n",
            "dict1 == {'key1': 'This is not that hard', 'key2': 'Python is still cool'}\n",
            "\n",
            "dict2 == {'key1': 123, 'special_key': 'secret'}\n",
            "\n",
            "dict3 == {'key2': 456, 'keyX': 'X'}\n"
          ],
          "name": "stdout"
        }
      ]
    },
    {
      "cell_type": "code",
      "metadata": {
        "editable": false,
        "id": "enhAKDkiLBN1"
      },
      "source": [
        "assert my_dict == {'key1': 123, 'key2': 456, 'keyX': 'X'}\n",
        "assert special_value == 'secret'\n",
        "\n",
        "# Let's check that the originals are untouched\n",
        "assert dict1 == {\n",
        "        'key1': 'This is not that hard',\n",
        "        'key2': 'Python is still cool'\n",
        "    }\n",
        "assert dict2 == {'key1': 123, 'special_key': 'secret'}\n",
        "assert dict3 == {'key2': 456, 'keyX': 'X'}"
      ],
      "execution_count": null,
      "outputs": []
    }
  ]
}