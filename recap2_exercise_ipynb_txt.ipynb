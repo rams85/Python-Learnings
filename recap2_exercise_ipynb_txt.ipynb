{
  "nbformat": 4,
  "nbformat_minor": 0,
  "metadata": {
    "kernelspec": {
      "display_name": "Python 3",
      "language": "python",
      "name": "python3"
    },
    "language_info": {
      "codemirror_mode": {
        "name": "ipython",
        "version": 3
      },
      "file_extension": ".py",
      "mimetype": "text/x-python",
      "name": "python",
      "nbconvert_exporter": "python",
      "pygments_lexer": "ipython3",
      "version": "3.5.4"
    },
    "colab": {
      "name": "recap2_exercise.ipynb.txt",
      "provenance": [],
      "include_colab_link": true
    }
  },
  "cells": [
    {
      "cell_type": "markdown",
      "metadata": {
        "id": "view-in-github",
        "colab_type": "text"
      },
      "source": [
        "<a href=\"https://colab.research.google.com/github/rams85/Python-Learnings/blob/main/recap2_exercise_ipynb_txt.ipynb\" target=\"_parent\"><img src=\"https://colab.research.google.com/assets/colab-badge.svg\" alt=\"Open In Colab\"/></a>"
      ]
    },
    {
      "cell_type": "markdown",
      "metadata": {
        "id": "KHjm9ndHgX-B"
      },
      "source": [
        "# 1. [Rock-paper-scissors](https://en.wikipedia.org/wiki/Rock%E2%80%93paper%E2%80%93scissors)\n",
        "\n",
        "> Indented block\n",
        "\n",
        "\n",
        "Implement `rock_paper_scissors` function which takes the player's rock-paper-scissors choice as an input (as integer), randomly selects the choice of the computer and reveals it (prints) and finally announces (prints) the result. The function should return `PLAYER_WINS`, `COMPUTER_WINS` or `TIE`."
      ]
    },
    {
      "cell_type": "markdown",
      "metadata": {
        "id": "dijiif5bhY6Q"
      },
      "source": [
        ""
      ]
    },
    {
      "cell_type": "code",
      "metadata": {
        "editable": false,
        "id": "PVBwEZJagX-S"
      },
      "source": [
        "# Constants, you should use these in your implementation\n",
        "ROCK = 1\n",
        "PAPER = 2\n",
        "SCISSORS = 3\n",
        "\n",
        "PLAYER_WINS = 'Player wins!! Woop woop!'\n",
        "COMPUTER_WINS = 'Robocop wins :-('\n",
        "TIE = \"It's a tie!\""
      ],
      "execution_count": null,
      "outputs": []
    },
    {
      "cell_type": "code",
      "metadata": {
        "id": "ikzU_HGngX-U",
        "colab": {
          "base_uri": "https://localhost:8080/"
        },
        "outputId": "5ba24def-b082-4d4e-c1e4-f52640212dc1"
      },
      "source": [
        "# Your implementation here\n",
        "import random\n",
        "\n",
        "def rock_paper_scissors(number):\n",
        "    result = random.choice(number)\n",
        "    if result == 1:\n",
        "        PLAYER_WINS = 'Player wins!! Woop woop!'\n",
        "        return PLAYER_WINS\n",
        "    elif result == 2:\n",
        "        COMPUTER_WINS = 'Robocop wins :-('\n",
        "        return COMPUTER_WINS\n",
        "    else:\n",
        "        TIE = \"It's a tie!\"\n",
        "        return TIE\n",
        "\n",
        "ROCK = 1\n",
        "PAPER = 2\n",
        "SCISSORS = 3\n",
        "\n",
        "PLAYER_WINS = 'Player wins!! Woop woop!'\n",
        "COMPUTER_WINS = 'Robocop wins :-('\n",
        "TIE = \"It's a tie!\"\n",
        "\n",
        "inputs = [ROCK, PAPER, SCISSORS]\n",
        "out = rock_paper_scissors(inputs)\n",
        "print(out)\n"
      ],
      "execution_count": 5,
      "outputs": [
        {
          "output_type": "stream",
          "text": [
            "Player wins!! Woop woop!\n"
          ],
          "name": "stdout"
        }
      ]
    },
    {
      "cell_type": "markdown",
      "metadata": {
        "id": "1kl9q6AogX-V"
      },
      "source": [
        "Once you have finished the implementation of `rock_paper_scissors` function, you can check if it works as expected by playing the game:"
      ]
    },
    {
      "cell_type": "code",
      "metadata": {
        "id": "l8c7MLZ1gX-W"
      },
      "source": [
        "def play_rps():\n",
        "    print('Welcome to play rock-paper-scissors')\n",
        "    print('The options are:\\nrock: 1\\npaper: 2\\nscissors: 3')\n",
        "\n",
        "    result = TIE\n",
        "    while result == TIE:\n",
        "        player_choice = input('Give your choice\\n')\n",
        "        \n",
        "        if not player_choice in ['1', '2', '3']:\n",
        "            print('Invalid choice')\n",
        "            continue\n",
        "            \n",
        "        result = rock_paper_scissors(int(player_choice))\n",
        "        \n",
        "if __name__ == '__main__':\n",
        "    play_rps()"
      ],
      "execution_count": null,
      "outputs": []
    },
    {
      "cell_type": "markdown",
      "metadata": {
        "id": "sdmya8wWgX-X"
      },
      "source": [
        "If you copy the code from above cells into a single .py file, you have a rock-paper-scissor command line game!"
      ]
    },
    {
      "cell_type": "markdown",
      "metadata": {
        "id": "Z-8WtMbugX-Z"
      },
      "source": [
        "# 2. Data analyzer\n",
        "Implement `DataAnalyzer` class which has the following specification:\n",
        "* `__init__` takes one argument which is a path to the file to be analyzed\n",
        "* `total_samples` method returns the amount of the data samples in the file\n",
        "* `average` method returns the average of the data samples in the file\n",
        "* `median` method returns the median of the data samples in the file\n",
        "* `max_value` method returns the maximum value of the data samples in the file\n",
        "* `min_value` method returns the minimum value of the data samples in the file\n",
        "* `create_report` method returns a report (string) of the file in the following format:\n",
        "\n",
        "```\n",
        "Report for <filename>\n",
        "samples: x\n",
        "average: x.xx\n",
        "median: xx.xx\n",
        "max: xx.xx\n",
        "min: x.xx\n",
        "```\n",
        " \n",
        "Note that average, median, max, and min should be presented with two decimal places in the report.\n",
        "\n",
        "The format of the input file is comma separated and the file contains only numeric values.\n",
        "\n",
        "If there is no data in the input file (empty file), `NoData` exception should be raised. Note: `NoData` should be your custom exception."
      ]
    },
    {
      "cell_type": "code",
      "metadata": {
        "id": "1RF2QiPOgX-a",
        "colab": {
          "base_uri": "https://localhost:8080/",
          "height": 380
        },
        "outputId": "83b04b91-4ce3-4bb9-a139-ca27394f47e7"
      },
      "source": [
        "# Your implementation here\n",
        "import os\n",
        "WORKING_DIR = os.getcwd()\n",
        "DATA_DIR = os.path.join(os.path.dirname(WORKING_DIR), 'data')\n",
        "DATA_FILE = os.path.join(DATA_DIR, 'random_data.txt')\n",
        "# DATA_FILE = 'random_data.txt'\n",
        "\n",
        "class DataAnalyzer():\n",
        "\n",
        "    path = \"\"\n",
        "    total_samples = 0\n",
        "    avg = 0\n",
        "\n",
        "    def __init__(self, path):\n",
        "        self.path = path\n",
        "\n",
        "    def total_samples(self):\n",
        "        samples = self.read_numbers()\n",
        "        print(samples)\n",
        "\n",
        "    def average(self):\n",
        "        avg = self.read_numbers()\n",
        "        print(avg)\n",
        "\n",
        "    def read_numbers(self):\n",
        "        with open(self.path, \"r\") as txtfile:\n",
        "            for num in txtfile:\n",
        "                total_samples = num.split(\",\")[0]\n",
        "                avg = num.split(\",\")[1]\n",
        "                if total_samples:\n",
        "                    return total_samples\n",
        "                if avg:\n",
        "                    return avg\n",
        "\n",
        "dt = DataAnalyzer(DATA_FILE)\n",
        "# dt.read_numbers()\n",
        "dt.total_samples()\n",
        "# dt.average()\n"
      ],
      "execution_count": 1,
      "outputs": [
        {
          "output_type": "error",
          "ename": "FileNotFoundError",
          "evalue": "ignored",
          "traceback": [
            "\u001b[0;31m---------------------------------------------------------------------------\u001b[0m",
            "\u001b[0;31mFileNotFoundError\u001b[0m                         Traceback (most recent call last)",
            "\u001b[0;32m<ipython-input-1-b2fb5ebee05a>\u001b[0m in \u001b[0;36m<module>\u001b[0;34m()\u001b[0m\n\u001b[1;32m     35\u001b[0m \u001b[0mdt\u001b[0m \u001b[0;34m=\u001b[0m \u001b[0mDataAnalyzer\u001b[0m\u001b[0;34m(\u001b[0m\u001b[0mDATA_FILE\u001b[0m\u001b[0;34m)\u001b[0m\u001b[0;34m\u001b[0m\u001b[0;34m\u001b[0m\u001b[0m\n\u001b[1;32m     36\u001b[0m \u001b[0;31m# dt.read_numbers()\u001b[0m\u001b[0;34m\u001b[0m\u001b[0;34m\u001b[0m\u001b[0;34m\u001b[0m\u001b[0m\n\u001b[0;32m---> 37\u001b[0;31m \u001b[0mdt\u001b[0m\u001b[0;34m.\u001b[0m\u001b[0mtotal_samples\u001b[0m\u001b[0;34m(\u001b[0m\u001b[0;34m)\u001b[0m\u001b[0;34m\u001b[0m\u001b[0;34m\u001b[0m\u001b[0m\n\u001b[0m\u001b[1;32m     38\u001b[0m \u001b[0;31m# dt.average()\u001b[0m\u001b[0;34m\u001b[0m\u001b[0;34m\u001b[0m\u001b[0;34m\u001b[0m\u001b[0m\n",
            "\u001b[0;32m<ipython-input-1-b2fb5ebee05a>\u001b[0m in \u001b[0;36mtotal_samples\u001b[0;34m(self)\u001b[0m\n\u001b[1;32m     16\u001b[0m \u001b[0;34m\u001b[0m\u001b[0m\n\u001b[1;32m     17\u001b[0m     \u001b[0;32mdef\u001b[0m \u001b[0mtotal_samples\u001b[0m\u001b[0;34m(\u001b[0m\u001b[0mself\u001b[0m\u001b[0;34m)\u001b[0m\u001b[0;34m:\u001b[0m\u001b[0;34m\u001b[0m\u001b[0;34m\u001b[0m\u001b[0m\n\u001b[0;32m---> 18\u001b[0;31m         \u001b[0msamples\u001b[0m \u001b[0;34m=\u001b[0m \u001b[0mself\u001b[0m\u001b[0;34m.\u001b[0m\u001b[0mread_numbers\u001b[0m\u001b[0;34m(\u001b[0m\u001b[0;34m)\u001b[0m\u001b[0;34m\u001b[0m\u001b[0;34m\u001b[0m\u001b[0m\n\u001b[0m\u001b[1;32m     19\u001b[0m         \u001b[0mprint\u001b[0m\u001b[0;34m(\u001b[0m\u001b[0msamples\u001b[0m\u001b[0;34m)\u001b[0m\u001b[0;34m\u001b[0m\u001b[0;34m\u001b[0m\u001b[0m\n\u001b[1;32m     20\u001b[0m \u001b[0;34m\u001b[0m\u001b[0m\n",
            "\u001b[0;32m<ipython-input-1-b2fb5ebee05a>\u001b[0m in \u001b[0;36mread_numbers\u001b[0;34m(self)\u001b[0m\n\u001b[1;32m     24\u001b[0m \u001b[0;34m\u001b[0m\u001b[0m\n\u001b[1;32m     25\u001b[0m     \u001b[0;32mdef\u001b[0m \u001b[0mread_numbers\u001b[0m\u001b[0;34m(\u001b[0m\u001b[0mself\u001b[0m\u001b[0;34m)\u001b[0m\u001b[0;34m:\u001b[0m\u001b[0;34m\u001b[0m\u001b[0;34m\u001b[0m\u001b[0m\n\u001b[0;32m---> 26\u001b[0;31m         \u001b[0;32mwith\u001b[0m \u001b[0mopen\u001b[0m\u001b[0;34m(\u001b[0m\u001b[0mself\u001b[0m\u001b[0;34m.\u001b[0m\u001b[0mpath\u001b[0m\u001b[0;34m,\u001b[0m \u001b[0;34m\"r\"\u001b[0m\u001b[0;34m)\u001b[0m \u001b[0;32mas\u001b[0m \u001b[0mtxtfile\u001b[0m\u001b[0;34m:\u001b[0m\u001b[0;34m\u001b[0m\u001b[0;34m\u001b[0m\u001b[0m\n\u001b[0m\u001b[1;32m     27\u001b[0m             \u001b[0;32mfor\u001b[0m \u001b[0mnum\u001b[0m \u001b[0;32min\u001b[0m \u001b[0mtxtfile\u001b[0m\u001b[0;34m:\u001b[0m\u001b[0;34m\u001b[0m\u001b[0;34m\u001b[0m\u001b[0m\n\u001b[1;32m     28\u001b[0m                 \u001b[0mtotal_samples\u001b[0m \u001b[0;34m=\u001b[0m \u001b[0mnum\u001b[0m\u001b[0;34m.\u001b[0m\u001b[0msplit\u001b[0m\u001b[0;34m(\u001b[0m\u001b[0;34m\",\"\u001b[0m\u001b[0;34m)\u001b[0m\u001b[0;34m[\u001b[0m\u001b[0;36m0\u001b[0m\u001b[0;34m]\u001b[0m\u001b[0;34m\u001b[0m\u001b[0;34m\u001b[0m\u001b[0m\n",
            "\u001b[0;31mFileNotFoundError\u001b[0m: [Errno 2] No such file or directory: '/data/random_data.txt'"
          ]
        }
      ]
    },
    {
      "cell_type": "markdown",
      "metadata": {
        "id": "I5sGlM8XgX-c"
      },
      "source": [
        "Let's verify it works."
      ]
    },
    {
      "cell_type": "code",
      "metadata": {
        "editable": false,
        "id": "N06fuwqpgX-e"
      },
      "source": [
        "import os\n",
        "WORKING_DIR = os.getcwd()\n",
        "DATA_DIR = os.path.join(os.path.dirname(WORKING_DIR), 'data')\n",
        "DATA_FILE = os.path.join(DATA_DIR, 'random_data.txt')\n",
        "\n",
        "da = DataAnalyzer(DATA_FILE)\n",
        "\n",
        "assert da.total_samples() == 20\n",
        "assert da.average() == 49.35\n",
        "assert da.median() == 47.5\n",
        "assert da.max_value() == 94\n",
        "assert da.min_value() == 4\n",
        "\n",
        "report = da.create_report()\n",
        "print(report)\n",
        "\n",
        "expected_report = (\n",
        "'Report for random_data.txt\\n'\n",
        "'samples: 20\\n'\n",
        "'average: 49.35\\n'\n",
        "'median: 47.50\\n'\n",
        "'max: 94.00\\n'\n",
        "'min: 4.00')\n",
        "assert report == expected_report "
      ],
      "execution_count": null,
      "outputs": []
    },
    {
      "cell_type": "markdown",
      "metadata": {
        "id": "pEPZi_c4gX-g"
      },
      "source": [
        "Let's check that it raises `NoData` with empty file."
      ]
    },
    {
      "cell_type": "code",
      "metadata": {
        "editable": false,
        "id": "QNIfYr8ZgX-l"
      },
      "source": [
        "EMPTY_FILE = os.path.join(DATA_DIR, 'empty_file.txt')\n",
        "try:\n",
        "    da_empty = DataAnalyzer(EMPTY_FILE)\n",
        "except NoData:\n",
        "    print('All ok :)')\n",
        "else: # There was no exception\n",
        "    assert False"
      ],
      "execution_count": null,
      "outputs": []
    }
  ]
}